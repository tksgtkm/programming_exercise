{
 "cells": [
  {
   "cell_type": "markdown",
   "id": "4b18c160-d58d-4ed7-a198-c85ee7f3549d",
   "metadata": {},
   "source": [
    "# コンピュータ・プログラムとはなにか"
   ]
  },
  {
   "cell_type": "markdown",
   "id": "0c160754-06b5-4c5f-91d4-7937dd58514d",
   "metadata": {},
   "source": [
    "## Pythonプログラムの形式的な定義"
   ]
  },
  {
   "cell_type": "raw",
   "id": "ace1eb11-eeda-4d02-a904-df010539e278",
   "metadata": {},
   "source": [
    "C: 基準コンピュータシステム\n",
    "\n",
    "ここでは決定的なプログラムを考える。\n",
    "決定的なプログラムとは、プログラムが実行を開始したときのCの状態によって実行経路が一意に決まるプログラム\n",
    "\n",
    "Pythonプログラムの定義\n",
    "基準コンピュータシステムCにおけるPythonプログラムとは、次の条件を満たすASCII文字の文字列Pである。\n",
    "・Pは構文的に正しいPythonプログラム\n",
    "・Pは少なくとも1個のPython関数を定義している。\n",
    "　(最初に定義された関数がメイン関数になる)\n",
    "\n",
    "Pythonプログラムの出力も定義する\n",
    "ここではメイン関数は1つの引数を取ることを前提としている\n",
    "\n",
    "Pythonプログラムの出力P(I)の定義：\n",
    "Pを基準コンピュータシステムCにおけるPythonプログラムであるとする。\n",
    "またPはメイン関数Mを持ち、IはPに対する入力として使われるASCII文字による文字列であるとする。\n",
    "入力Iに対するPの出力はコンピュータCで関数Mを入力Iに対して実行したときに得られるものでP(I)と書く。\n",
    "このとき、P(I)を以下のように定義する。\n",
    "・MがASCII文字列Sを返すとき、P(I) = Sである。\n",
    "・MがASCII文字列でないPythonオブジェクトを返すとき、P(I)は未定義である。\n",
    "・Mが入力Iに対して例外を投げるとき、P(I)は未定義である。\n",
    "・Mが入力Iに対して終了しないとき、P(I)は未定義である。\n",
    "\n",
    "入力Iを与えたときにPのメイン関数がちゃんと文字列を出力するときP(I)はその文字列で、\n",
    "そうでなければP(I)は未定義である。"
   ]
  },
  {
   "cell_type": "markdown",
   "id": "f8a5762c-a7ed-47ae-a1df-576670e22614",
   "metadata": {},
   "source": [
    "## 判定プログラムとプログラムの等価性"
   ]
  },
  {
   "cell_type": "raw",
   "id": "cd7acb0f-1171-4be2-a728-979f1ee72bc4",
   "metadata": {},
   "source": [
    "判定プログラム：\n",
    "判定プログラムとは出力が定義されているときに必ずyesとnoの２つの文字列の中のどちらかを返すプログラム\n",
    "\n",
    "Pythonのプログラムの等価性の定義：\n",
    "すべての文字列Iに対してP1(I) = P2(I)なら、PythonプログラムP1とP2は等価である。\n",
    "複数の引数を取るプログラムの場合は当然P1(I1, I2, ...) = P2(I1, I2, ...)である。"
   ]
  },
  {
   "cell_type": "code",
   "execution_count": null,
   "id": "d44affcd-e20d-4a29-8168-56376da8db20",
   "metadata": {},
   "outputs": [],
   "source": []
  }
 ],
 "metadata": {
  "kernelspec": {
   "display_name": "Python 3 (ipykernel)",
   "language": "python",
   "name": "python3"
  },
  "language_info": {
   "codemirror_mode": {
    "name": "ipython",
    "version": 3
   },
   "file_extension": ".py",
   "mimetype": "text/x-python",
   "name": "python",
   "nbconvert_exporter": "python",
   "pygments_lexer": "ipython3",
   "version": "3.11.12"
  }
 },
 "nbformat": 4,
 "nbformat_minor": 5
}
